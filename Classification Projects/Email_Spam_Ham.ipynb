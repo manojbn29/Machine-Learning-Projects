{
 "cells": [
  {
   "cell_type": "code",
   "execution_count": 1,
   "id": "medical-despite",
   "metadata": {},
   "outputs": [],
   "source": [
    "import pandas as pd\n",
    "import numpy as np\n",
    "import matplotlib.pyplot as plt\n",
    "%matplotlib inline\n",
    "\n",
    "import seaborn as sns\n",
    "import copy\n",
    "\n",
    "import warnings\n",
    "warnings.filterwarnings('ignore')\n",
    "\n",
    "pd.set_option('display.max_rows',500)\n",
    "pd.set_option('display.max_columns',100)\n",
    "pd.set_option('display.width',1000) "
   ]
  },
  {
   "cell_type": "code",
   "execution_count": 2,
   "id": "general-correlation",
   "metadata": {},
   "outputs": [],
   "source": [
    "df1 = pd.read_csv('Email_Spam_Ham.csv', encoding = 'iso-8859-1')"
   ]
  },
  {
   "cell_type": "code",
   "execution_count": 3,
   "id": "meaning-meter",
   "metadata": {},
   "outputs": [
    {
     "data": {
      "text/html": [
       "<div>\n",
       "<style scoped>\n",
       "    .dataframe tbody tr th:only-of-type {\n",
       "        vertical-align: middle;\n",
       "    }\n",
       "\n",
       "    .dataframe tbody tr th {\n",
       "        vertical-align: top;\n",
       "    }\n",
       "\n",
       "    .dataframe thead th {\n",
       "        text-align: right;\n",
       "    }\n",
       "</style>\n",
       "<table border=\"1\" class=\"dataframe\">\n",
       "  <thead>\n",
       "    <tr style=\"text-align: right;\">\n",
       "      <th></th>\n",
       "      <th>Unnamed: 0</th>\n",
       "      <th>v1</th>\n",
       "      <th>v2</th>\n",
       "      <th>Unnamed: 2</th>\n",
       "      <th>Unnamed: 3</th>\n",
       "      <th>Unnamed: 4</th>\n",
       "    </tr>\n",
       "  </thead>\n",
       "  <tbody>\n",
       "    <tr>\n",
       "      <th>0</th>\n",
       "      <td>0</td>\n",
       "      <td>ham</td>\n",
       "      <td>Go until jurong point, crazy.. Available only ...</td>\n",
       "      <td>NaN</td>\n",
       "      <td>NaN</td>\n",
       "      <td>NaN</td>\n",
       "    </tr>\n",
       "    <tr>\n",
       "      <th>1</th>\n",
       "      <td>1</td>\n",
       "      <td>ham</td>\n",
       "      <td>Ok lar... Joking wif u oni...</td>\n",
       "      <td>NaN</td>\n",
       "      <td>NaN</td>\n",
       "      <td>NaN</td>\n",
       "    </tr>\n",
       "    <tr>\n",
       "      <th>2</th>\n",
       "      <td>2</td>\n",
       "      <td>spam</td>\n",
       "      <td>Free entry in 2 a wkly comp to win FA Cup fina...</td>\n",
       "      <td>NaN</td>\n",
       "      <td>NaN</td>\n",
       "      <td>NaN</td>\n",
       "    </tr>\n",
       "  </tbody>\n",
       "</table>\n",
       "</div>"
      ],
      "text/plain": [
       "   Unnamed: 0    v1                                                 v2 Unnamed: 2 Unnamed: 3 Unnamed: 4\n",
       "0           0   ham  Go until jurong point, crazy.. Available only ...        NaN        NaN        NaN\n",
       "1           1   ham                      Ok lar... Joking wif u oni...        NaN        NaN        NaN\n",
       "2           2  spam  Free entry in 2 a wkly comp to win FA Cup fina...        NaN        NaN        NaN"
      ]
     },
     "execution_count": 3,
     "metadata": {},
     "output_type": "execute_result"
    }
   ],
   "source": [
    "df1.head(3)"
   ]
  },
  {
   "cell_type": "code",
   "execution_count": 4,
   "id": "sharing-square",
   "metadata": {},
   "outputs": [
    {
     "data": {
      "text/plain": [
       "(5572, 6)"
      ]
     },
     "execution_count": 4,
     "metadata": {},
     "output_type": "execute_result"
    }
   ],
   "source": [
    "df1.shape"
   ]
  },
  {
   "cell_type": "code",
   "execution_count": 5,
   "id": "interesting-subcommittee",
   "metadata": {},
   "outputs": [],
   "source": [
    "# Dropping unwanted columns\n",
    "df = df1.drop(['Unnamed: 2', 'Unnamed: 3', 'Unnamed: 4'], axis = 1)"
   ]
  },
  {
   "cell_type": "code",
   "execution_count": 6,
   "id": "distributed-increase",
   "metadata": {},
   "outputs": [
    {
     "data": {
      "text/html": [
       "<div>\n",
       "<style scoped>\n",
       "    .dataframe tbody tr th:only-of-type {\n",
       "        vertical-align: middle;\n",
       "    }\n",
       "\n",
       "    .dataframe tbody tr th {\n",
       "        vertical-align: top;\n",
       "    }\n",
       "\n",
       "    .dataframe thead th {\n",
       "        text-align: right;\n",
       "    }\n",
       "</style>\n",
       "<table border=\"1\" class=\"dataframe\">\n",
       "  <thead>\n",
       "    <tr style=\"text-align: right;\">\n",
       "      <th></th>\n",
       "      <th>Unnamed: 0</th>\n",
       "      <th>v1</th>\n",
       "      <th>v2</th>\n",
       "    </tr>\n",
       "  </thead>\n",
       "  <tbody>\n",
       "    <tr>\n",
       "      <th>0</th>\n",
       "      <td>0</td>\n",
       "      <td>ham</td>\n",
       "      <td>Go until jurong point, crazy.. Available only ...</td>\n",
       "    </tr>\n",
       "    <tr>\n",
       "      <th>1</th>\n",
       "      <td>1</td>\n",
       "      <td>ham</td>\n",
       "      <td>Ok lar... Joking wif u oni...</td>\n",
       "    </tr>\n",
       "    <tr>\n",
       "      <th>2</th>\n",
       "      <td>2</td>\n",
       "      <td>spam</td>\n",
       "      <td>Free entry in 2 a wkly comp to win FA Cup fina...</td>\n",
       "    </tr>\n",
       "  </tbody>\n",
       "</table>\n",
       "</div>"
      ],
      "text/plain": [
       "   Unnamed: 0    v1                                                 v2\n",
       "0           0   ham  Go until jurong point, crazy.. Available only ...\n",
       "1           1   ham                      Ok lar... Joking wif u oni...\n",
       "2           2  spam  Free entry in 2 a wkly comp to win FA Cup fina..."
      ]
     },
     "execution_count": 6,
     "metadata": {},
     "output_type": "execute_result"
    }
   ],
   "source": [
    "df.head(3)"
   ]
  },
  {
   "cell_type": "code",
   "execution_count": 7,
   "id": "cathedral-effects",
   "metadata": {},
   "outputs": [
    {
     "name": "stdout",
     "output_type": "stream",
     "text": [
      "<class 'pandas.core.frame.DataFrame'>\n",
      "RangeIndex: 5572 entries, 0 to 5571\n",
      "Data columns (total 3 columns):\n",
      " #   Column      Non-Null Count  Dtype \n",
      "---  ------      --------------  ----- \n",
      " 0   Unnamed: 0  5572 non-null   int64 \n",
      " 1   v1          5572 non-null   object\n",
      " 2   v2          5572 non-null   object\n",
      "dtypes: int64(1), object(2)\n",
      "memory usage: 130.7+ KB\n"
     ]
    }
   ],
   "source": [
    "df.info()"
   ]
  },
  {
   "cell_type": "code",
   "execution_count": 8,
   "id": "associate-briefing",
   "metadata": {},
   "outputs": [
    {
     "data": {
      "text/plain": [
       "0"
      ]
     },
     "execution_count": 8,
     "metadata": {},
     "output_type": "execute_result"
    }
   ],
   "source": [
    "df['v2'].isnull().sum()"
   ]
  },
  {
   "cell_type": "code",
   "execution_count": 9,
   "id": "talented-wallet",
   "metadata": {},
   "outputs": [
    {
     "data": {
      "text/plain": [
       "0"
      ]
     },
     "execution_count": 9,
     "metadata": {},
     "output_type": "execute_result"
    }
   ],
   "source": [
    "df['v1'].isnull().sum()"
   ]
  },
  {
   "cell_type": "markdown",
   "id": "placed-grill",
   "metadata": {},
   "source": [
    "# Data Cleaning:\n",
    "\n",
    "1) Detect which language it is and make the separate dataframe for each language\n",
    "2) Remove the puncutiation marks, numbers ..etc\n",
    "3) Make the Lower case\n",
    "4) Remove the stop words\n",
    "5) Lemittization\n",
    "6) Find a way to convert text data to numeric data"
   ]
  },
  {
   "cell_type": "markdown",
   "id": "searching-minute",
   "metadata": {},
   "source": [
    "### 1) Detecting the language in each row of the text column"
   ]
  },
  {
   "cell_type": "code",
   "execution_count": 10,
   "id": "north-forth",
   "metadata": {},
   "outputs": [
    {
     "data": {
      "text/plain": [
       "'en'"
      ]
     },
     "execution_count": 10,
     "metadata": {},
     "output_type": "execute_result"
    }
   ],
   "source": [
    "from langdetect import detect\n",
    "detect(\"War doesn't show who's right, just who's left.\")"
   ]
  },
  {
   "cell_type": "code",
   "execution_count": 11,
   "id": "working-stockholm",
   "metadata": {},
   "outputs": [
    {
     "name": "stdout",
     "output_type": "stream",
     "text": [
      "This row number : [1611] throws error because row is:- 645\n",
      "This row number : [3374] throws error because row is:- :) \n",
      "This row number : [4822] throws error because row is:- :-) :-)\n"
     ]
    }
   ],
   "source": [
    "# Here I am not able to detect the language in the v2 column because there may be some empty rows or ????? or numbers .....etc\n",
    "\n",
    "# Then how to get that rows and their index position : below is the code \n",
    "\n",
    "\n",
    "all = []\n",
    "for row in df['v2']:\n",
    "    try:\n",
    "        language = detect(row)\n",
    "    except:\n",
    "        language = \"error\"\n",
    "        index = df.index[df[\"v2\"] == row].tolist()\n",
    "        print(f\"This row number : {index} throws error because row is:- {row}\")\n",
    "#     row.append(language)\n",
    "        all.append(row)"
   ]
  },
  {
   "cell_type": "code",
   "execution_count": 12,
   "id": "smaller-result",
   "metadata": {},
   "outputs": [],
   "source": [
    "# Making a separate column Language which displays the name of the language in each row\n",
    "# we can do this only after removing that rows which we got errors\n",
    "\n",
    "# df['Language'] = df['v2'].apply(lambda x: detect(x))"
   ]
  },
  {
   "cell_type": "markdown",
   "id": "supreme-jungle",
   "metadata": {},
   "source": [
    "### 2) Removing punctuation, digits, spaces, and  making lower case"
   ]
  },
  {
   "cell_type": "code",
   "execution_count": 13,
   "id": "deadly-battle",
   "metadata": {},
   "outputs": [],
   "source": [
    "import string\n",
    "\n",
    "df['v2'] = df['v2'].apply(lambda x: ''.join([i for i in x if i not in string.punctuation]))"
   ]
  },
  {
   "cell_type": "code",
   "execution_count": 14,
   "id": "advisory-cambridge",
   "metadata": {},
   "outputs": [],
   "source": [
    "# removing digits\n",
    "\n",
    "df['v2'] = df['v2'].apply(lambda x: ''.join([i for i in x if i not in string.digits]))"
   ]
  },
  {
   "cell_type": "code",
   "execution_count": 15,
   "id": "duplicate-season",
   "metadata": {},
   "outputs": [],
   "source": [
    "# removing spaces from data\n",
    "\n",
    "df['v2'] = df['v2'].apply(lambda x: ' '.join(x.split()))"
   ]
  },
  {
   "cell_type": "code",
   "execution_count": 16,
   "id": "adapted-church",
   "metadata": {},
   "outputs": [],
   "source": [
    "# making the Lower case\n",
    "\n",
    "df['v2'] = df['v2'].apply(lambda x: x.lower())"
   ]
  },
  {
   "cell_type": "markdown",
   "id": "adequate-hypothesis",
   "metadata": {},
   "source": [
    "### 4) Removing stop words"
   ]
  },
  {
   "cell_type": "code",
   "execution_count": 17,
   "id": "exceptional-sodium",
   "metadata": {},
   "outputs": [],
   "source": [
    "# Stop words from spacy library\n",
    "from spacy.lang.en.stop_words import STOP_WORDS\n",
    "\n",
    "df['v2'] = df['v2'].apply(lambda x: ' '.join([i for i in x.split() if i not in STOP_WORDS]))"
   ]
  },
  {
   "cell_type": "markdown",
   "id": "republican-genius",
   "metadata": {},
   "source": [
    "### 5) Lemmatization"
   ]
  },
  {
   "cell_type": "code",
   "execution_count": 18,
   "id": "yellow-drunk",
   "metadata": {},
   "outputs": [],
   "source": [
    "# usig spacy\n",
    "import spacy\n",
    "en_core = spacy.load('en_core_web_sm')\n",
    "\n",
    "df['v2'] = df['v2'].apply(lambda x : \" \".join([y.lemma_ for y in en_core(x)]))"
   ]
  },
  {
   "cell_type": "markdown",
   "id": "fuzzy-education",
   "metadata": {},
   "source": [
    "### 6) Converting text data into numeric data"
   ]
  },
  {
   "cell_type": "code",
   "execution_count": 19,
   "id": "coral-reply",
   "metadata": {},
   "outputs": [
    {
     "data": {
      "text/plain": [
       "(5572, 3)"
      ]
     },
     "execution_count": 19,
     "metadata": {},
     "output_type": "execute_result"
    }
   ],
   "source": [
    "df.shape"
   ]
  },
  {
   "cell_type": "code",
   "execution_count": 20,
   "id": "laden-tobago",
   "metadata": {},
   "outputs": [
    {
     "data": {
      "text/html": [
       "<div>\n",
       "<style scoped>\n",
       "    .dataframe tbody tr th:only-of-type {\n",
       "        vertical-align: middle;\n",
       "    }\n",
       "\n",
       "    .dataframe tbody tr th {\n",
       "        vertical-align: top;\n",
       "    }\n",
       "\n",
       "    .dataframe thead th {\n",
       "        text-align: right;\n",
       "    }\n",
       "</style>\n",
       "<table border=\"1\" class=\"dataframe\">\n",
       "  <thead>\n",
       "    <tr style=\"text-align: right;\">\n",
       "      <th></th>\n",
       "      <th>Unnamed: 0</th>\n",
       "      <th>v1</th>\n",
       "      <th>v2</th>\n",
       "    </tr>\n",
       "  </thead>\n",
       "  <tbody>\n",
       "    <tr>\n",
       "      <th>0</th>\n",
       "      <td>0</td>\n",
       "      <td>ham</td>\n",
       "      <td>jurong point crazy available bugis n great wor...</td>\n",
       "    </tr>\n",
       "    <tr>\n",
       "      <th>1</th>\n",
       "      <td>1</td>\n",
       "      <td>ham</td>\n",
       "      <td>ok lar joke wif u oni</td>\n",
       "    </tr>\n",
       "  </tbody>\n",
       "</table>\n",
       "</div>"
      ],
      "text/plain": [
       "   Unnamed: 0   v1                                                 v2\n",
       "0           0  ham  jurong point crazy available bugis n great wor...\n",
       "1           1  ham                              ok lar joke wif u oni"
      ]
     },
     "execution_count": 20,
     "metadata": {},
     "output_type": "execute_result"
    }
   ],
   "source": [
    "df.head(2)"
   ]
  },
  {
   "cell_type": "code",
   "execution_count": 21,
   "id": "seven-morgan",
   "metadata": {},
   "outputs": [],
   "source": [
    "from sklearn.feature_extraction.text import TfidfVectorizer\n",
    "vec = TfidfVectorizer(max_features = 2500)\n",
    "\n",
    "tfidf_vectors = vec.fit_transform(df['v2'])"
   ]
  },
  {
   "cell_type": "code",
   "execution_count": 22,
   "id": "interested-cursor",
   "metadata": {},
   "outputs": [
    {
     "data": {
      "text/html": [
       "<div>\n",
       "<style scoped>\n",
       "    .dataframe tbody tr th:only-of-type {\n",
       "        vertical-align: middle;\n",
       "    }\n",
       "\n",
       "    .dataframe tbody tr th {\n",
       "        vertical-align: top;\n",
       "    }\n",
       "\n",
       "    .dataframe thead th {\n",
       "        text-align: right;\n",
       "    }\n",
       "</style>\n",
       "<table border=\"1\" class=\"dataframe\">\n",
       "  <thead>\n",
       "    <tr style=\"text-align: right;\">\n",
       "      <th></th>\n",
       "      <th>aah</th>\n",
       "      <th>aathilove</th>\n",
       "      <th>aathiwhere</th>\n",
       "      <th>abi</th>\n",
       "      <th>abiola</th>\n",
       "      <th>able</th>\n",
       "      <th>abt</th>\n",
       "      <th>abta</th>\n",
       "      <th>ac</th>\n",
       "      <th>academic</th>\n",
       "      <th>acc</th>\n",
       "      <th>accept</th>\n",
       "      <th>access</th>\n",
       "      <th>accident</th>\n",
       "      <th>accidentally</th>\n",
       "      <th>account</th>\n",
       "      <th>ache</th>\n",
       "      <th>acoentry</th>\n",
       "      <th>act</th>\n",
       "      <th>action</th>\n",
       "      <th>activate</th>\n",
       "      <th>activity</th>\n",
       "      <th>actually</th>\n",
       "      <th>ad</th>\n",
       "      <th>add</th>\n",
       "      <th>addamsfa</th>\n",
       "      <th>addie</th>\n",
       "      <th>address</th>\n",
       "      <th>admirer</th>\n",
       "      <th>adore</th>\n",
       "      <th>adoring</th>\n",
       "      <th>adult</th>\n",
       "      <th>advance</th>\n",
       "      <th>adventure</th>\n",
       "      <th>advice</th>\n",
       "      <th>advise</th>\n",
       "      <th>ae</th>\n",
       "      <th>affair</th>\n",
       "      <th>affection</th>\n",
       "      <th>affectionate</th>\n",
       "      <th>afraid</th>\n",
       "      <th>aft</th>\n",
       "      <th>afternoon</th>\n",
       "      <th>aftr</th>\n",
       "      <th>agalla</th>\n",
       "      <th>age</th>\n",
       "      <th>ago</th>\n",
       "      <th>agree</th>\n",
       "      <th>ah</th>\n",
       "      <th>aha</th>\n",
       "      <th>...</th>\n",
       "      <th>wwwldewcomwinppmxage</th>\n",
       "      <th>wwwmovietriviatv</th>\n",
       "      <th>wwwringtonescouk</th>\n",
       "      <th>wwwtcbiz</th>\n",
       "      <th>wwwtextcompcom</th>\n",
       "      <th>wwwtextpodnet</th>\n",
       "      <th>wwwtxtcom</th>\n",
       "      <th>wwx</th>\n",
       "      <th>wylie</th>\n",
       "      <th>xam</th>\n",
       "      <th>xchat</th>\n",
       "      <th>xma</th>\n",
       "      <th>xmas</th>\n",
       "      <th>xpwk</th>\n",
       "      <th>xuhui</th>\n",
       "      <th>xx</th>\n",
       "      <th>xxx</th>\n",
       "      <th>xxxxx</th>\n",
       "      <th>xxxxxxx</th>\n",
       "      <th>xxxxxxxxx</th>\n",
       "      <th>xy</th>\n",
       "      <th>ya</th>\n",
       "      <th>yahoo</th>\n",
       "      <th>yan</th>\n",
       "      <th>yar</th>\n",
       "      <th>yay</th>\n",
       "      <th>yeah</th>\n",
       "      <th>year</th>\n",
       "      <th>yep</th>\n",
       "      <th>yer</th>\n",
       "      <th>yes</th>\n",
       "      <th>yeshe</th>\n",
       "      <th>yest</th>\n",
       "      <th>yesterday</th>\n",
       "      <th>yetunde</th>\n",
       "      <th>yijue</th>\n",
       "      <th>ym</th>\n",
       "      <th>yo</th>\n",
       "      <th>yoga</th>\n",
       "      <th>yogasana</th>\n",
       "      <th>yor</th>\n",
       "      <th>you</th>\n",
       "      <th>youclean</th>\n",
       "      <th>yr</th>\n",
       "      <th>yrs</th>\n",
       "      <th>yummy</th>\n",
       "      <th>yun</th>\n",
       "      <th>yuo</th>\n",
       "      <th>yup</th>\n",
       "      <th>ze</th>\n",
       "    </tr>\n",
       "  </thead>\n",
       "  <tbody>\n",
       "    <tr>\n",
       "      <th>0</th>\n",
       "      <td>0.0</td>\n",
       "      <td>0.0</td>\n",
       "      <td>0.0</td>\n",
       "      <td>0.0</td>\n",
       "      <td>0.0</td>\n",
       "      <td>0.0</td>\n",
       "      <td>0.0</td>\n",
       "      <td>0.0</td>\n",
       "      <td>0.0</td>\n",
       "      <td>0.0</td>\n",
       "      <td>0.0</td>\n",
       "      <td>0.0</td>\n",
       "      <td>0.0</td>\n",
       "      <td>0.0</td>\n",
       "      <td>0.0</td>\n",
       "      <td>0.0</td>\n",
       "      <td>0.0</td>\n",
       "      <td>0.0</td>\n",
       "      <td>0.0</td>\n",
       "      <td>0.0</td>\n",
       "      <td>0.0</td>\n",
       "      <td>0.0</td>\n",
       "      <td>0.0</td>\n",
       "      <td>0.0</td>\n",
       "      <td>0.0</td>\n",
       "      <td>0.0</td>\n",
       "      <td>0.0</td>\n",
       "      <td>0.0</td>\n",
       "      <td>0.0</td>\n",
       "      <td>0.0</td>\n",
       "      <td>0.0</td>\n",
       "      <td>0.0</td>\n",
       "      <td>0.0</td>\n",
       "      <td>0.0</td>\n",
       "      <td>0.0</td>\n",
       "      <td>0.0</td>\n",
       "      <td>0.0</td>\n",
       "      <td>0.0</td>\n",
       "      <td>0.0</td>\n",
       "      <td>0.0</td>\n",
       "      <td>0.0</td>\n",
       "      <td>0.0</td>\n",
       "      <td>0.0</td>\n",
       "      <td>0.0</td>\n",
       "      <td>0.0</td>\n",
       "      <td>0.0</td>\n",
       "      <td>0.0</td>\n",
       "      <td>0.0</td>\n",
       "      <td>0.0</td>\n",
       "      <td>0.0</td>\n",
       "      <td>...</td>\n",
       "      <td>0.0</td>\n",
       "      <td>0.0</td>\n",
       "      <td>0.0</td>\n",
       "      <td>0.0</td>\n",
       "      <td>0.0</td>\n",
       "      <td>0.0</td>\n",
       "      <td>0.0</td>\n",
       "      <td>0.0</td>\n",
       "      <td>0.0</td>\n",
       "      <td>0.0</td>\n",
       "      <td>0.0</td>\n",
       "      <td>0.0</td>\n",
       "      <td>0.0</td>\n",
       "      <td>0.0</td>\n",
       "      <td>0.0</td>\n",
       "      <td>0.0</td>\n",
       "      <td>0.0</td>\n",
       "      <td>0.0</td>\n",
       "      <td>0.0</td>\n",
       "      <td>0.0</td>\n",
       "      <td>0.0</td>\n",
       "      <td>0.0</td>\n",
       "      <td>0.0</td>\n",
       "      <td>0.0</td>\n",
       "      <td>0.0</td>\n",
       "      <td>0.0</td>\n",
       "      <td>0.0</td>\n",
       "      <td>0.0</td>\n",
       "      <td>0.0</td>\n",
       "      <td>0.0</td>\n",
       "      <td>0.0</td>\n",
       "      <td>0.0</td>\n",
       "      <td>0.0</td>\n",
       "      <td>0.0</td>\n",
       "      <td>0.0</td>\n",
       "      <td>0.0</td>\n",
       "      <td>0.0</td>\n",
       "      <td>0.0</td>\n",
       "      <td>0.0</td>\n",
       "      <td>0.0</td>\n",
       "      <td>0.0</td>\n",
       "      <td>0.0</td>\n",
       "      <td>0.0</td>\n",
       "      <td>0.0</td>\n",
       "      <td>0.0</td>\n",
       "      <td>0.0</td>\n",
       "      <td>0.0</td>\n",
       "      <td>0.0</td>\n",
       "      <td>0.0</td>\n",
       "      <td>0.0</td>\n",
       "    </tr>\n",
       "    <tr>\n",
       "      <th>1</th>\n",
       "      <td>0.0</td>\n",
       "      <td>0.0</td>\n",
       "      <td>0.0</td>\n",
       "      <td>0.0</td>\n",
       "      <td>0.0</td>\n",
       "      <td>0.0</td>\n",
       "      <td>0.0</td>\n",
       "      <td>0.0</td>\n",
       "      <td>0.0</td>\n",
       "      <td>0.0</td>\n",
       "      <td>0.0</td>\n",
       "      <td>0.0</td>\n",
       "      <td>0.0</td>\n",
       "      <td>0.0</td>\n",
       "      <td>0.0</td>\n",
       "      <td>0.0</td>\n",
       "      <td>0.0</td>\n",
       "      <td>0.0</td>\n",
       "      <td>0.0</td>\n",
       "      <td>0.0</td>\n",
       "      <td>0.0</td>\n",
       "      <td>0.0</td>\n",
       "      <td>0.0</td>\n",
       "      <td>0.0</td>\n",
       "      <td>0.0</td>\n",
       "      <td>0.0</td>\n",
       "      <td>0.0</td>\n",
       "      <td>0.0</td>\n",
       "      <td>0.0</td>\n",
       "      <td>0.0</td>\n",
       "      <td>0.0</td>\n",
       "      <td>0.0</td>\n",
       "      <td>0.0</td>\n",
       "      <td>0.0</td>\n",
       "      <td>0.0</td>\n",
       "      <td>0.0</td>\n",
       "      <td>0.0</td>\n",
       "      <td>0.0</td>\n",
       "      <td>0.0</td>\n",
       "      <td>0.0</td>\n",
       "      <td>0.0</td>\n",
       "      <td>0.0</td>\n",
       "      <td>0.0</td>\n",
       "      <td>0.0</td>\n",
       "      <td>0.0</td>\n",
       "      <td>0.0</td>\n",
       "      <td>0.0</td>\n",
       "      <td>0.0</td>\n",
       "      <td>0.0</td>\n",
       "      <td>0.0</td>\n",
       "      <td>...</td>\n",
       "      <td>0.0</td>\n",
       "      <td>0.0</td>\n",
       "      <td>0.0</td>\n",
       "      <td>0.0</td>\n",
       "      <td>0.0</td>\n",
       "      <td>0.0</td>\n",
       "      <td>0.0</td>\n",
       "      <td>0.0</td>\n",
       "      <td>0.0</td>\n",
       "      <td>0.0</td>\n",
       "      <td>0.0</td>\n",
       "      <td>0.0</td>\n",
       "      <td>0.0</td>\n",
       "      <td>0.0</td>\n",
       "      <td>0.0</td>\n",
       "      <td>0.0</td>\n",
       "      <td>0.0</td>\n",
       "      <td>0.0</td>\n",
       "      <td>0.0</td>\n",
       "      <td>0.0</td>\n",
       "      <td>0.0</td>\n",
       "      <td>0.0</td>\n",
       "      <td>0.0</td>\n",
       "      <td>0.0</td>\n",
       "      <td>0.0</td>\n",
       "      <td>0.0</td>\n",
       "      <td>0.0</td>\n",
       "      <td>0.0</td>\n",
       "      <td>0.0</td>\n",
       "      <td>0.0</td>\n",
       "      <td>0.0</td>\n",
       "      <td>0.0</td>\n",
       "      <td>0.0</td>\n",
       "      <td>0.0</td>\n",
       "      <td>0.0</td>\n",
       "      <td>0.0</td>\n",
       "      <td>0.0</td>\n",
       "      <td>0.0</td>\n",
       "      <td>0.0</td>\n",
       "      <td>0.0</td>\n",
       "      <td>0.0</td>\n",
       "      <td>0.0</td>\n",
       "      <td>0.0</td>\n",
       "      <td>0.0</td>\n",
       "      <td>0.0</td>\n",
       "      <td>0.0</td>\n",
       "      <td>0.0</td>\n",
       "      <td>0.0</td>\n",
       "      <td>0.0</td>\n",
       "      <td>0.0</td>\n",
       "    </tr>\n",
       "    <tr>\n",
       "      <th>2</th>\n",
       "      <td>0.0</td>\n",
       "      <td>0.0</td>\n",
       "      <td>0.0</td>\n",
       "      <td>0.0</td>\n",
       "      <td>0.0</td>\n",
       "      <td>0.0</td>\n",
       "      <td>0.0</td>\n",
       "      <td>0.0</td>\n",
       "      <td>0.0</td>\n",
       "      <td>0.0</td>\n",
       "      <td>0.0</td>\n",
       "      <td>0.0</td>\n",
       "      <td>0.0</td>\n",
       "      <td>0.0</td>\n",
       "      <td>0.0</td>\n",
       "      <td>0.0</td>\n",
       "      <td>0.0</td>\n",
       "      <td>0.0</td>\n",
       "      <td>0.0</td>\n",
       "      <td>0.0</td>\n",
       "      <td>0.0</td>\n",
       "      <td>0.0</td>\n",
       "      <td>0.0</td>\n",
       "      <td>0.0</td>\n",
       "      <td>0.0</td>\n",
       "      <td>0.0</td>\n",
       "      <td>0.0</td>\n",
       "      <td>0.0</td>\n",
       "      <td>0.0</td>\n",
       "      <td>0.0</td>\n",
       "      <td>0.0</td>\n",
       "      <td>0.0</td>\n",
       "      <td>0.0</td>\n",
       "      <td>0.0</td>\n",
       "      <td>0.0</td>\n",
       "      <td>0.0</td>\n",
       "      <td>0.0</td>\n",
       "      <td>0.0</td>\n",
       "      <td>0.0</td>\n",
       "      <td>0.0</td>\n",
       "      <td>0.0</td>\n",
       "      <td>0.0</td>\n",
       "      <td>0.0</td>\n",
       "      <td>0.0</td>\n",
       "      <td>0.0</td>\n",
       "      <td>0.0</td>\n",
       "      <td>0.0</td>\n",
       "      <td>0.0</td>\n",
       "      <td>0.0</td>\n",
       "      <td>0.0</td>\n",
       "      <td>...</td>\n",
       "      <td>0.0</td>\n",
       "      <td>0.0</td>\n",
       "      <td>0.0</td>\n",
       "      <td>0.0</td>\n",
       "      <td>0.0</td>\n",
       "      <td>0.0</td>\n",
       "      <td>0.0</td>\n",
       "      <td>0.0</td>\n",
       "      <td>0.0</td>\n",
       "      <td>0.0</td>\n",
       "      <td>0.0</td>\n",
       "      <td>0.0</td>\n",
       "      <td>0.0</td>\n",
       "      <td>0.0</td>\n",
       "      <td>0.0</td>\n",
       "      <td>0.0</td>\n",
       "      <td>0.0</td>\n",
       "      <td>0.0</td>\n",
       "      <td>0.0</td>\n",
       "      <td>0.0</td>\n",
       "      <td>0.0</td>\n",
       "      <td>0.0</td>\n",
       "      <td>0.0</td>\n",
       "      <td>0.0</td>\n",
       "      <td>0.0</td>\n",
       "      <td>0.0</td>\n",
       "      <td>0.0</td>\n",
       "      <td>0.0</td>\n",
       "      <td>0.0</td>\n",
       "      <td>0.0</td>\n",
       "      <td>0.0</td>\n",
       "      <td>0.0</td>\n",
       "      <td>0.0</td>\n",
       "      <td>0.0</td>\n",
       "      <td>0.0</td>\n",
       "      <td>0.0</td>\n",
       "      <td>0.0</td>\n",
       "      <td>0.0</td>\n",
       "      <td>0.0</td>\n",
       "      <td>0.0</td>\n",
       "      <td>0.0</td>\n",
       "      <td>0.0</td>\n",
       "      <td>0.0</td>\n",
       "      <td>0.0</td>\n",
       "      <td>0.0</td>\n",
       "      <td>0.0</td>\n",
       "      <td>0.0</td>\n",
       "      <td>0.0</td>\n",
       "      <td>0.0</td>\n",
       "      <td>0.0</td>\n",
       "    </tr>\n",
       "    <tr>\n",
       "      <th>3</th>\n",
       "      <td>0.0</td>\n",
       "      <td>0.0</td>\n",
       "      <td>0.0</td>\n",
       "      <td>0.0</td>\n",
       "      <td>0.0</td>\n",
       "      <td>0.0</td>\n",
       "      <td>0.0</td>\n",
       "      <td>0.0</td>\n",
       "      <td>0.0</td>\n",
       "      <td>0.0</td>\n",
       "      <td>0.0</td>\n",
       "      <td>0.0</td>\n",
       "      <td>0.0</td>\n",
       "      <td>0.0</td>\n",
       "      <td>0.0</td>\n",
       "      <td>0.0</td>\n",
       "      <td>0.0</td>\n",
       "      <td>0.0</td>\n",
       "      <td>0.0</td>\n",
       "      <td>0.0</td>\n",
       "      <td>0.0</td>\n",
       "      <td>0.0</td>\n",
       "      <td>0.0</td>\n",
       "      <td>0.0</td>\n",
       "      <td>0.0</td>\n",
       "      <td>0.0</td>\n",
       "      <td>0.0</td>\n",
       "      <td>0.0</td>\n",
       "      <td>0.0</td>\n",
       "      <td>0.0</td>\n",
       "      <td>0.0</td>\n",
       "      <td>0.0</td>\n",
       "      <td>0.0</td>\n",
       "      <td>0.0</td>\n",
       "      <td>0.0</td>\n",
       "      <td>0.0</td>\n",
       "      <td>0.0</td>\n",
       "      <td>0.0</td>\n",
       "      <td>0.0</td>\n",
       "      <td>0.0</td>\n",
       "      <td>0.0</td>\n",
       "      <td>0.0</td>\n",
       "      <td>0.0</td>\n",
       "      <td>0.0</td>\n",
       "      <td>0.0</td>\n",
       "      <td>0.0</td>\n",
       "      <td>0.0</td>\n",
       "      <td>0.0</td>\n",
       "      <td>0.0</td>\n",
       "      <td>0.0</td>\n",
       "      <td>...</td>\n",
       "      <td>0.0</td>\n",
       "      <td>0.0</td>\n",
       "      <td>0.0</td>\n",
       "      <td>0.0</td>\n",
       "      <td>0.0</td>\n",
       "      <td>0.0</td>\n",
       "      <td>0.0</td>\n",
       "      <td>0.0</td>\n",
       "      <td>0.0</td>\n",
       "      <td>0.0</td>\n",
       "      <td>0.0</td>\n",
       "      <td>0.0</td>\n",
       "      <td>0.0</td>\n",
       "      <td>0.0</td>\n",
       "      <td>0.0</td>\n",
       "      <td>0.0</td>\n",
       "      <td>0.0</td>\n",
       "      <td>0.0</td>\n",
       "      <td>0.0</td>\n",
       "      <td>0.0</td>\n",
       "      <td>0.0</td>\n",
       "      <td>0.0</td>\n",
       "      <td>0.0</td>\n",
       "      <td>0.0</td>\n",
       "      <td>0.0</td>\n",
       "      <td>0.0</td>\n",
       "      <td>0.0</td>\n",
       "      <td>0.0</td>\n",
       "      <td>0.0</td>\n",
       "      <td>0.0</td>\n",
       "      <td>0.0</td>\n",
       "      <td>0.0</td>\n",
       "      <td>0.0</td>\n",
       "      <td>0.0</td>\n",
       "      <td>0.0</td>\n",
       "      <td>0.0</td>\n",
       "      <td>0.0</td>\n",
       "      <td>0.0</td>\n",
       "      <td>0.0</td>\n",
       "      <td>0.0</td>\n",
       "      <td>0.0</td>\n",
       "      <td>0.0</td>\n",
       "      <td>0.0</td>\n",
       "      <td>0.0</td>\n",
       "      <td>0.0</td>\n",
       "      <td>0.0</td>\n",
       "      <td>0.0</td>\n",
       "      <td>0.0</td>\n",
       "      <td>0.0</td>\n",
       "      <td>0.0</td>\n",
       "    </tr>\n",
       "    <tr>\n",
       "      <th>4</th>\n",
       "      <td>0.0</td>\n",
       "      <td>0.0</td>\n",
       "      <td>0.0</td>\n",
       "      <td>0.0</td>\n",
       "      <td>0.0</td>\n",
       "      <td>0.0</td>\n",
       "      <td>0.0</td>\n",
       "      <td>0.0</td>\n",
       "      <td>0.0</td>\n",
       "      <td>0.0</td>\n",
       "      <td>0.0</td>\n",
       "      <td>0.0</td>\n",
       "      <td>0.0</td>\n",
       "      <td>0.0</td>\n",
       "      <td>0.0</td>\n",
       "      <td>0.0</td>\n",
       "      <td>0.0</td>\n",
       "      <td>0.0</td>\n",
       "      <td>0.0</td>\n",
       "      <td>0.0</td>\n",
       "      <td>0.0</td>\n",
       "      <td>0.0</td>\n",
       "      <td>0.0</td>\n",
       "      <td>0.0</td>\n",
       "      <td>0.0</td>\n",
       "      <td>0.0</td>\n",
       "      <td>0.0</td>\n",
       "      <td>0.0</td>\n",
       "      <td>0.0</td>\n",
       "      <td>0.0</td>\n",
       "      <td>0.0</td>\n",
       "      <td>0.0</td>\n",
       "      <td>0.0</td>\n",
       "      <td>0.0</td>\n",
       "      <td>0.0</td>\n",
       "      <td>0.0</td>\n",
       "      <td>0.0</td>\n",
       "      <td>0.0</td>\n",
       "      <td>0.0</td>\n",
       "      <td>0.0</td>\n",
       "      <td>0.0</td>\n",
       "      <td>0.0</td>\n",
       "      <td>0.0</td>\n",
       "      <td>0.0</td>\n",
       "      <td>0.0</td>\n",
       "      <td>0.0</td>\n",
       "      <td>0.0</td>\n",
       "      <td>0.0</td>\n",
       "      <td>0.0</td>\n",
       "      <td>0.0</td>\n",
       "      <td>...</td>\n",
       "      <td>0.0</td>\n",
       "      <td>0.0</td>\n",
       "      <td>0.0</td>\n",
       "      <td>0.0</td>\n",
       "      <td>0.0</td>\n",
       "      <td>0.0</td>\n",
       "      <td>0.0</td>\n",
       "      <td>0.0</td>\n",
       "      <td>0.0</td>\n",
       "      <td>0.0</td>\n",
       "      <td>0.0</td>\n",
       "      <td>0.0</td>\n",
       "      <td>0.0</td>\n",
       "      <td>0.0</td>\n",
       "      <td>0.0</td>\n",
       "      <td>0.0</td>\n",
       "      <td>0.0</td>\n",
       "      <td>0.0</td>\n",
       "      <td>0.0</td>\n",
       "      <td>0.0</td>\n",
       "      <td>0.0</td>\n",
       "      <td>0.0</td>\n",
       "      <td>0.0</td>\n",
       "      <td>0.0</td>\n",
       "      <td>0.0</td>\n",
       "      <td>0.0</td>\n",
       "      <td>0.0</td>\n",
       "      <td>0.0</td>\n",
       "      <td>0.0</td>\n",
       "      <td>0.0</td>\n",
       "      <td>0.0</td>\n",
       "      <td>0.0</td>\n",
       "      <td>0.0</td>\n",
       "      <td>0.0</td>\n",
       "      <td>0.0</td>\n",
       "      <td>0.0</td>\n",
       "      <td>0.0</td>\n",
       "      <td>0.0</td>\n",
       "      <td>0.0</td>\n",
       "      <td>0.0</td>\n",
       "      <td>0.0</td>\n",
       "      <td>0.0</td>\n",
       "      <td>0.0</td>\n",
       "      <td>0.0</td>\n",
       "      <td>0.0</td>\n",
       "      <td>0.0</td>\n",
       "      <td>0.0</td>\n",
       "      <td>0.0</td>\n",
       "      <td>0.0</td>\n",
       "      <td>0.0</td>\n",
       "    </tr>\n",
       "  </tbody>\n",
       "</table>\n",
       "<p>5 rows × 2500 columns</p>\n",
       "</div>"
      ],
      "text/plain": [
       "   aah  aathilove  aathiwhere  abi  abiola  able  abt  abta   ac  academic  acc  accept  access  accident  accidentally  account  ache  acoentry  act  action  activate  activity  actually   ad  add  addamsfa  addie  address  admirer  adore  adoring  adult  advance  adventure  advice  advise   ae  affair  affection  affectionate  afraid  aft  afternoon  aftr  agalla  age  ago  agree   ah  aha  ...  wwwldewcomwinppmxage  wwwmovietriviatv  wwwringtonescouk  wwwtcbiz  wwwtextcompcom  wwwtextpodnet  wwwtxtcom  wwx  wylie  xam  xchat  xma  xmas  xpwk  xuhui   xx  xxx  xxxxx  xxxxxxx  xxxxxxxxx   xy   ya  yahoo  yan  yar  yay  yeah  year  yep  yer  yes  yeshe  yest  yesterday  yetunde  yijue   ym   yo  yoga  yogasana  yor  you  youclean   yr  yrs  yummy  yun  yuo  yup   ze\n",
       "0  0.0        0.0         0.0  0.0     0.0   0.0  0.0   0.0  0.0       0.0  0.0     0.0     0.0       0.0           0.0      0.0   0.0       0.0  0.0     0.0       0.0       0.0       0.0  0.0  0.0       0.0    0.0      0.0      0.0    0.0      0.0    0.0      0.0        0.0     0.0     0.0  0.0     0.0        0.0           0.0     0.0  0.0        0.0   0.0     0.0  0.0  0.0    0.0  0.0  0.0  ...                   0.0               0.0               0.0       0.0             0.0            0.0        0.0  0.0    0.0  0.0    0.0  0.0   0.0   0.0    0.0  0.0  0.0    0.0      0.0        0.0  0.0  0.0    0.0  0.0  0.0  0.0   0.0   0.0  0.0  0.0  0.0    0.0   0.0        0.0      0.0    0.0  0.0  0.0   0.0       0.0  0.0  0.0       0.0  0.0  0.0    0.0  0.0  0.0  0.0  0.0\n",
       "1  0.0        0.0         0.0  0.0     0.0   0.0  0.0   0.0  0.0       0.0  0.0     0.0     0.0       0.0           0.0      0.0   0.0       0.0  0.0     0.0       0.0       0.0       0.0  0.0  0.0       0.0    0.0      0.0      0.0    0.0      0.0    0.0      0.0        0.0     0.0     0.0  0.0     0.0        0.0           0.0     0.0  0.0        0.0   0.0     0.0  0.0  0.0    0.0  0.0  0.0  ...                   0.0               0.0               0.0       0.0             0.0            0.0        0.0  0.0    0.0  0.0    0.0  0.0   0.0   0.0    0.0  0.0  0.0    0.0      0.0        0.0  0.0  0.0    0.0  0.0  0.0  0.0   0.0   0.0  0.0  0.0  0.0    0.0   0.0        0.0      0.0    0.0  0.0  0.0   0.0       0.0  0.0  0.0       0.0  0.0  0.0    0.0  0.0  0.0  0.0  0.0\n",
       "2  0.0        0.0         0.0  0.0     0.0   0.0  0.0   0.0  0.0       0.0  0.0     0.0     0.0       0.0           0.0      0.0   0.0       0.0  0.0     0.0       0.0       0.0       0.0  0.0  0.0       0.0    0.0      0.0      0.0    0.0      0.0    0.0      0.0        0.0     0.0     0.0  0.0     0.0        0.0           0.0     0.0  0.0        0.0   0.0     0.0  0.0  0.0    0.0  0.0  0.0  ...                   0.0               0.0               0.0       0.0             0.0            0.0        0.0  0.0    0.0  0.0    0.0  0.0   0.0   0.0    0.0  0.0  0.0    0.0      0.0        0.0  0.0  0.0    0.0  0.0  0.0  0.0   0.0   0.0  0.0  0.0  0.0    0.0   0.0        0.0      0.0    0.0  0.0  0.0   0.0       0.0  0.0  0.0       0.0  0.0  0.0    0.0  0.0  0.0  0.0  0.0\n",
       "3  0.0        0.0         0.0  0.0     0.0   0.0  0.0   0.0  0.0       0.0  0.0     0.0     0.0       0.0           0.0      0.0   0.0       0.0  0.0     0.0       0.0       0.0       0.0  0.0  0.0       0.0    0.0      0.0      0.0    0.0      0.0    0.0      0.0        0.0     0.0     0.0  0.0     0.0        0.0           0.0     0.0  0.0        0.0   0.0     0.0  0.0  0.0    0.0  0.0  0.0  ...                   0.0               0.0               0.0       0.0             0.0            0.0        0.0  0.0    0.0  0.0    0.0  0.0   0.0   0.0    0.0  0.0  0.0    0.0      0.0        0.0  0.0  0.0    0.0  0.0  0.0  0.0   0.0   0.0  0.0  0.0  0.0    0.0   0.0        0.0      0.0    0.0  0.0  0.0   0.0       0.0  0.0  0.0       0.0  0.0  0.0    0.0  0.0  0.0  0.0  0.0\n",
       "4  0.0        0.0         0.0  0.0     0.0   0.0  0.0   0.0  0.0       0.0  0.0     0.0     0.0       0.0           0.0      0.0   0.0       0.0  0.0     0.0       0.0       0.0       0.0  0.0  0.0       0.0    0.0      0.0      0.0    0.0      0.0    0.0      0.0        0.0     0.0     0.0  0.0     0.0        0.0           0.0     0.0  0.0        0.0   0.0     0.0  0.0  0.0    0.0  0.0  0.0  ...                   0.0               0.0               0.0       0.0             0.0            0.0        0.0  0.0    0.0  0.0    0.0  0.0   0.0   0.0    0.0  0.0  0.0    0.0      0.0        0.0  0.0  0.0    0.0  0.0  0.0  0.0   0.0   0.0  0.0  0.0  0.0    0.0   0.0        0.0      0.0    0.0  0.0  0.0   0.0       0.0  0.0  0.0       0.0  0.0  0.0    0.0  0.0  0.0  0.0  0.0\n",
       "\n",
       "[5 rows x 2500 columns]"
      ]
     },
     "execution_count": 22,
     "metadata": {},
     "output_type": "execute_result"
    }
   ],
   "source": [
    "new_df = pd.DataFrame(tfidf_vectors.toarray(), columns = vec.get_feature_names())\n",
    "new_df.head()"
   ]
  },
  {
   "cell_type": "markdown",
   "id": "casual-floor",
   "metadata": {},
   "source": [
    "## Analysing Target column"
   ]
  },
  {
   "cell_type": "code",
   "execution_count": 23,
   "id": "excess-begin",
   "metadata": {},
   "outputs": [
    {
     "data": {
      "text/plain": [
       "ham     4825\n",
       "spam     747\n",
       "Name: v1, dtype: int64"
      ]
     },
     "execution_count": 23,
     "metadata": {},
     "output_type": "execute_result"
    }
   ],
   "source": [
    "df['v1'].value_counts()"
   ]
  },
  {
   "cell_type": "code",
   "execution_count": 24,
   "id": "passive-equilibrium",
   "metadata": {},
   "outputs": [
    {
     "data": {
      "image/png": "[encoded data removed]",
      "text/plain": [
       "<Figure size 432x288 with 1 Axes>"
      ]
     },
     "metadata": {},
     "output_type": "display_data"
    }
   ],
   "source": [
    "sns.set_theme(style=\"darkgrid\")\n",
    "ax = sns.countplot(x=\"v1\", data=df)"
   ]
  },
  {
   "cell_type": "markdown",
   "id": "instrumental-duplicate",
   "metadata": {},
   "source": [
    "Since the target column is not balanced we need to do under or oversamapling"
   ]
  },
  {
   "cell_type": "code",
   "execution_count": 25,
   "id": "explicit-agreement",
   "metadata": {},
   "outputs": [],
   "source": [
    "# converting categorical data into numeric\n",
    "\n",
    "df['v1_new'] = df['v1'].map({'ham':0, 'spam':1})"
   ]
  },
  {
   "cell_type": "code",
   "execution_count": 26,
   "id": "casual-joining",
   "metadata": {},
   "outputs": [
    {
     "data": {
      "text/html": [
       "<div>\n",
       "<style scoped>\n",
       "    .dataframe tbody tr th:only-of-type {\n",
       "        vertical-align: middle;\n",
       "    }\n",
       "\n",
       "    .dataframe tbody tr th {\n",
       "        vertical-align: top;\n",
       "    }\n",
       "\n",
       "    .dataframe thead th {\n",
       "        text-align: right;\n",
       "    }\n",
       "</style>\n",
       "<table border=\"1\" class=\"dataframe\">\n",
       "  <thead>\n",
       "    <tr style=\"text-align: right;\">\n",
       "      <th></th>\n",
       "      <th>Unnamed: 0</th>\n",
       "      <th>v1</th>\n",
       "      <th>v2</th>\n",
       "      <th>v1_new</th>\n",
       "    </tr>\n",
       "  </thead>\n",
       "  <tbody>\n",
       "    <tr>\n",
       "      <th>0</th>\n",
       "      <td>0</td>\n",
       "      <td>ham</td>\n",
       "      <td>jurong point crazy available bugis n great wor...</td>\n",
       "      <td>0</td>\n",
       "    </tr>\n",
       "    <tr>\n",
       "      <th>1</th>\n",
       "      <td>1</td>\n",
       "      <td>ham</td>\n",
       "      <td>ok lar joke wif u oni</td>\n",
       "      <td>0</td>\n",
       "    </tr>\n",
       "    <tr>\n",
       "      <th>2</th>\n",
       "      <td>2</td>\n",
       "      <td>spam</td>\n",
       "      <td>free entry wkly comp win fa cup final tkts st ...</td>\n",
       "      <td>1</td>\n",
       "    </tr>\n",
       "    <tr>\n",
       "      <th>3</th>\n",
       "      <td>3</td>\n",
       "      <td>ham</td>\n",
       "      <td>u dun early hor u c</td>\n",
       "      <td>0</td>\n",
       "    </tr>\n",
       "    <tr>\n",
       "      <th>4</th>\n",
       "      <td>4</td>\n",
       "      <td>ham</td>\n",
       "      <td>nah do nt think go usf life</td>\n",
       "      <td>0</td>\n",
       "    </tr>\n",
       "  </tbody>\n",
       "</table>\n",
       "</div>"
      ],
      "text/plain": [
       "   Unnamed: 0    v1                                                 v2  v1_new\n",
       "0           0   ham  jurong point crazy available bugis n great wor...       0\n",
       "1           1   ham                              ok lar joke wif u oni       0\n",
       "2           2  spam  free entry wkly comp win fa cup final tkts st ...       1\n",
       "3           3   ham                                u dun early hor u c       0\n",
       "4           4   ham                        nah do nt think go usf life       0"
      ]
     },
     "execution_count": 26,
     "metadata": {},
     "output_type": "execute_result"
    }
   ],
   "source": [
    "df.head()"
   ]
  },
  {
   "cell_type": "markdown",
   "id": "played-messenger",
   "metadata": {},
   "source": [
    "## Oversampling using smotetomek"
   ]
  },
  {
   "cell_type": "code",
   "execution_count": 27,
   "id": "thousand-blend",
   "metadata": {},
   "outputs": [],
   "source": [
    "X = new_df"
   ]
  },
  {
   "cell_type": "code",
   "execution_count": 28,
   "id": "handed-arabic",
   "metadata": {},
   "outputs": [],
   "source": [
    "y = df['v1_new']"
   ]
  },
  {
   "cell_type": "code",
   "execution_count": 29,
   "id": "material-cabin",
   "metadata": {},
   "outputs": [],
   "source": [
    "from imblearn.combine import SMOTETomek\n",
    "smk = SMOTETomek(random_state = 42)\n",
    "X_res, y_res = smk.fit_resample(X, y)"
   ]
  },
  {
   "cell_type": "code",
   "execution_count": 30,
   "id": "several-academy",
   "metadata": {},
   "outputs": [
    {
     "name": "stdout",
     "output_type": "stream",
     "text": [
      "Original Dataset Shape Counter({0: 4825, 1: 747})\n",
      "Resampled Dataset Shape Counter({0: 4825, 1: 4825})\n"
     ]
    }
   ],
   "source": [
    "from collections import Counter\n",
    "\n",
    "print(\"Original Dataset Shape {}\".format(Counter(y)))\n",
    "print(\"Resampled Dataset Shape {}\".format(Counter(y_res)))"
   ]
  },
  {
   "cell_type": "code",
   "execution_count": 31,
   "id": "happy-initial",
   "metadata": {},
   "outputs": [
    {
     "data": {
      "text/plain": [
       "(9650, 2500)"
      ]
     },
     "execution_count": 31,
     "metadata": {},
     "output_type": "execute_result"
    }
   ],
   "source": [
    "X_res.shape"
   ]
  },
  {
   "cell_type": "code",
   "execution_count": 32,
   "id": "configured-twenty",
   "metadata": {},
   "outputs": [
    {
     "data": {
      "text/plain": [
       "pandas.core.frame.DataFrame"
      ]
     },
     "execution_count": 32,
     "metadata": {},
     "output_type": "execute_result"
    }
   ],
   "source": [
    "type(X_res)"
   ]
  },
  {
   "cell_type": "markdown",
   "id": "raising-circuit",
   "metadata": {},
   "source": [
    "## Train Test Split"
   ]
  },
  {
   "cell_type": "code",
   "execution_count": 33,
   "id": "eleven-neutral",
   "metadata": {},
   "outputs": [],
   "source": [
    "from sklearn.model_selection import train_test_split\n",
    "X_train, X_test, y_train, y_test = train_test_split(X_res, y_res, test_size = 0.2)"
   ]
  },
  {
   "cell_type": "markdown",
   "id": "affecting-karma",
   "metadata": {},
   "source": [
    "# Logestic Regression"
   ]
  },
  {
   "cell_type": "code",
   "execution_count": 34,
   "id": "laughing-budget",
   "metadata": {},
   "outputs": [
    {
     "name": "stdout",
     "output_type": "stream",
     "text": [
      "0.9455958549222798\n"
     ]
    }
   ],
   "source": [
    "from sklearn.linear_model import LogisticRegression\n",
    "log = LogisticRegression(max_iter = 200)\n",
    "log_model = log.fit(X_train, y_train)\n",
    "\n",
    "\n",
    "y_pred = log_model.predict(X_test)\n",
    "\n",
    "from sklearn.metrics import accuracy_score\n",
    "score = accuracy_score(y_pred, y_test)\n",
    "print(score)"
   ]
  },
  {
   "cell_type": "markdown",
   "id": "entire-proportion",
   "metadata": {},
   "source": [
    "# KNN Classifier"
   ]
  },
  {
   "cell_type": "code",
   "execution_count": 35,
   "id": "physical-means",
   "metadata": {},
   "outputs": [
    {
     "name": "stdout",
     "output_type": "stream",
     "text": [
      "0.778238341968912\n"
     ]
    }
   ],
   "source": [
    "#First we take k value 1 then we check the model then in the below we can understand how to select k value\n",
    "\n",
    "from sklearn.neighbors import KNeighborsClassifier\n",
    "knn = KNeighborsClassifier(n_neighbors = 1) # n_neighbors is the k value\n",
    "knn_model = knn.fit(X_train, y_train)\n",
    "\n",
    "y_pred = knn_model.predict(X_test)\n",
    "\n",
    "from sklearn.metrics import accuracy_score\n",
    "score = accuracy_score(y_pred, y_test)\n",
    "print(score)"
   ]
  },
  {
   "cell_type": "code",
   "execution_count": 36,
   "id": "early-marijuana",
   "metadata": {},
   "outputs": [],
   "source": [
    "# predicting the right k value\n",
    "error_rate = []\n",
    "\n",
    "for i in range(1, 40):\n",
    "    knn = KNeighborsClassifier(n_neighbors = i)\n",
    "    knn_model = knn.fit(X_train, y_train)\n",
    "    pred_i = knn_model.predict(X_test)\n",
    "    error_rate.append(np.mean(pred_i != y_test))"
   ]
  },
  {
   "cell_type": "code",
   "execution_count": 37,
   "id": "blank-welding",
   "metadata": {},
   "outputs": [
    {
     "data": {
      "text/plain": [
       "Text(0, 0.5, 'Error Rate')"
      ]
     },
     "execution_count": 37,
     "metadata": {},
     "output_type": "execute_result"
    },
    {
     "data": {
      "image/png": "[encoded data removed]",
      "text/plain": [
       "<Figure size 720x432 with 1 Axes>"
      ]
     },
     "metadata": {},
     "output_type": "display_data"
    }
   ],
   "source": [
    "plt.figure(figsize =(10, 6))\n",
    "plt.plot(range(1, 40), error_rate, color ='blue',\n",
    "                linestyle ='dashed', marker ='o',\n",
    "         markerfacecolor ='red', markersize = 10)\n",
    "  \n",
    "plt.title('Error Rate vs. K Value')\n",
    "plt.xlabel('K value')\n",
    "plt.ylabel('Error Rate')"
   ]
  },
  {
   "cell_type": "markdown",
   "id": "generic-australia",
   "metadata": {},
   "source": [
    "As we can see in the graph at k value 38 the error rate is less and it is stable to some extinct so we can select k value as 38"
   ]
  },
  {
   "cell_type": "code",
   "execution_count": 38,
   "id": "worse-shell",
   "metadata": {},
   "outputs": [
    {
     "name": "stdout",
     "output_type": "stream",
     "text": [
      "0.8450777202072539\n"
     ]
    }
   ],
   "source": [
    "# making K value as \n",
    "\n",
    "from sklearn.neighbors import KNeighborsClassifier\n",
    "knn = KNeighborsClassifier(n_neighbors = 38) # n_neighbors is the k value\n",
    "knn_model = knn.fit(X_train, y_train)\n",
    "\n",
    "y_pred = knn_model.predict(X_test)\n",
    "\n",
    "from sklearn.metrics import accuracy_score\n",
    "score = accuracy_score(y_pred, y_test)\n",
    "print(score)"
   ]
  },
  {
   "cell_type": "markdown",
   "id": "ethical-musical",
   "metadata": {},
   "source": [
    "# Naive Bayes - Gaussian"
   ]
  },
  {
   "cell_type": "code",
   "execution_count": 39,
   "id": "worse-mother",
   "metadata": {},
   "outputs": [
    {
     "name": "stdout",
     "output_type": "stream",
     "text": [
      "0.9160621761658031\n"
     ]
    }
   ],
   "source": [
    "from sklearn.naive_bayes import GaussianNB\n",
    "nb_model = GaussianNB()\n",
    "nb_model.fit(X_train, y_train)\n",
    "\n",
    "y_pred = nb_model.predict(X_test)\n",
    "\n",
    "from sklearn.metrics import accuracy_score\n",
    "score = accuracy_score(y_pred, y_test)\n",
    "print(score)"
   ]
  },
  {
   "cell_type": "markdown",
   "id": "interim-bedroom",
   "metadata": {},
   "source": [
    "# Naive Bayes Multinomial"
   ]
  },
  {
   "cell_type": "code",
   "execution_count": 40,
   "id": "searching-attendance",
   "metadata": {},
   "outputs": [
    {
     "name": "stdout",
     "output_type": "stream",
     "text": [
      "0.966839378238342\n"
     ]
    }
   ],
   "source": [
    "from sklearn.naive_bayes import MultinomialNB\n",
    "nb_model1 = MultinomialNB()\n",
    "nb_model1.fit(X_train, y_train)\n",
    "\n",
    "y_pred_m = nb_model1.predict(X_test)\n",
    "\n",
    "from sklearn.metrics import accuracy_score\n",
    "score = accuracy_score(y_pred_m, y_test)\n",
    "print(score)"
   ]
  },
  {
   "cell_type": "markdown",
   "id": "certain-thumbnail",
   "metadata": {},
   "source": [
    "# SVM (Linear)"
   ]
  },
  {
   "cell_type": "code",
   "execution_count": 41,
   "id": "superior-mobile",
   "metadata": {},
   "outputs": [
    {
     "name": "stdout",
     "output_type": "stream",
     "text": [
      "0.9756476683937824\n"
     ]
    }
   ],
   "source": [
    "from sklearn.svm import SVC\n",
    "classifier = SVC(kernel = 'linear')\n",
    "svm_model = classifier.fit(X_train, y_train)\n",
    "\n",
    "y_pred = svm_model.predict(X_test)\n",
    "\n",
    "from sklearn.metrics import accuracy_score\n",
    "score = accuracy_score(y_pred, y_test)\n",
    "print(score)"
   ]
  },
  {
   "cell_type": "markdown",
   "id": "italic-consortium",
   "metadata": {},
   "source": [
    "# SVM (RBF)"
   ]
  },
  {
   "cell_type": "code",
   "execution_count": 42,
   "id": "lasting-conference",
   "metadata": {},
   "outputs": [
    {
     "name": "stdout",
     "output_type": "stream",
     "text": [
      "0.9896373056994818\n"
     ]
    }
   ],
   "source": [
    "from sklearn.svm import SVC\n",
    "classifier = SVC(kernel = 'rbf')\n",
    "svm_model_rbf = classifier.fit(X_train, y_train)\n",
    "\n",
    "y_pred = svm_model_rbf.predict(X_test)\n",
    "\n",
    "from sklearn.metrics import accuracy_score\n",
    "score = accuracy_score(y_pred, y_test)\n",
    "print(score)"
   ]
  },
  {
   "cell_type": "markdown",
   "id": "considerable-package",
   "metadata": {},
   "source": [
    "# Decision Trees"
   ]
  },
  {
   "cell_type": "code",
   "execution_count": 43,
   "id": "promotional-surfing",
   "metadata": {},
   "outputs": [
    {
     "name": "stdout",
     "output_type": "stream",
     "text": [
      "0.9689119170984456\n"
     ]
    }
   ],
   "source": [
    "from sklearn.tree import DecisionTreeClassifier\n",
    "dt = DecisionTreeClassifier()\n",
    "dt_model = dt.fit(X_train, y_train)\n",
    "\n",
    "y_pred = dt_model.predict(X_test)\n",
    "\n",
    "from sklearn.metrics import accuracy_score\n",
    "score = accuracy_score(y_pred, y_test)\n",
    "print(score)"
   ]
  },
  {
   "cell_type": "markdown",
   "id": "northern-louisville",
   "metadata": {},
   "source": [
    "# Random Forest"
   ]
  },
  {
   "cell_type": "code",
   "execution_count": 44,
   "id": "compound-economy",
   "metadata": {},
   "outputs": [
    {
     "name": "stdout",
     "output_type": "stream",
     "text": [
      "0.9849740932642487\n"
     ]
    }
   ],
   "source": [
    "from sklearn.ensemble import RandomForestClassifier\n",
    "rf = RandomForestClassifier(n_estimators=100, random_state=0)\n",
    "rf_model = rf.fit(X_train, y_train)\n",
    "\n",
    "y_pred = rf_model.predict(X_test)\n",
    "\n",
    "from sklearn.metrics import accuracy_score\n",
    "score = accuracy_score(y_pred, y_test)\n",
    "print(score)"
   ]
  },
  {
   "cell_type": "markdown",
   "id": "yellow-portuguese",
   "metadata": {},
   "source": [
    "# Ada Boost"
   ]
  },
  {
   "cell_type": "code",
   "execution_count": 45,
   "id": "nominated-proportion",
   "metadata": {},
   "outputs": [
    {
     "name": "stdout",
     "output_type": "stream",
     "text": [
      "0.9637305699481865\n"
     ]
    }
   ],
   "source": [
    "from sklearn.ensemble import AdaBoostClassifier\n",
    "ab = AdaBoostClassifier(n_estimators=100, random_state=0)\n",
    "ab_model = ab.fit(X_train, y_train)\n",
    "\n",
    "y_pred = ab_model.predict(X_test)\n",
    "\n",
    "from sklearn.metrics import accuracy_score\n",
    "score = accuracy_score(y_pred, y_test)\n",
    "print(score)"
   ]
  },
  {
   "cell_type": "markdown",
   "id": "violent-reproduction",
   "metadata": {},
   "source": [
    "# XG-Boost"
   ]
  },
  {
   "cell_type": "code",
   "execution_count": 46,
   "id": "communist-backup",
   "metadata": {},
   "outputs": [
    {
     "name": "stdout",
     "output_type": "stream",
     "text": [
      "[13:16:36] WARNING: C:/Users/Administrator/workspace/xgboost-win64_release_1.4.0/src/learner.cc:1095: Starting in XGBoost 1.3.0, the default evaluation metric used with the objective 'binary:logistic' was changed from 'error' to 'logloss'. Explicitly set eval_metric if you'd like to restore the old behavior.\n",
      "0.977720207253886\n"
     ]
    }
   ],
   "source": [
    "import xgboost\n",
    "xg = xgboost.XGBClassifier()\n",
    "xgboost_model = xg.fit(X_train, y_train)\n",
    "\n",
    "y_pred = xgboost_model.predict(X_test)\n",
    "\n",
    "from sklearn.metrics import accuracy_score\n",
    "score = accuracy_score(y_pred, y_test)\n",
    "print(score)"
   ]
  },
  {
   "cell_type": "markdown",
   "id": "historic-scotland",
   "metadata": {},
   "source": [
    "# **Conclusion**\n",
    "\n",
    "When we compare the scores of all models, for SVM (RBF) and RandomForest classifier we got high accuracy score"
   ]
  },
  {
   "cell_type": "code",
   "execution_count": null,
   "id": "sweet-prevention",
   "metadata": {},
   "outputs": [],
   "source": []
  }
 ],
 "metadata": {
  "kernelspec": {
   "display_name": "Python 3",
   "language": "python",
   "name": "python3"
  },
  "language_info": {
   "codemirror_mode": {
    "name": "ipython",
    "version": 3
   },
   "file_extension": ".py",
   "mimetype": "text/x-python",
   "name": "python",
   "nbconvert_exporter": "python",
   "pygments_lexer": "ipython3",
   "version": "3.8.6"
  }
 },
 "nbformat": 4,
 "nbformat_minor": 5
}
